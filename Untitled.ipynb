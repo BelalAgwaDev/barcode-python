{
 "cells": [
  {
   "cell_type": "code",
   "execution_count": 2,
   "metadata": {},
   "outputs": [],
   "source": [
    "from itertools import product\n",
    "from barcode import EAN13\n",
    "from barcode.writer import ImageWriter\n",
    "\n",
    "k = 3\n",
    "\n",
    "for number in product(range(10), repeat = k):\n",
    "    barcodee = \"\".join(map(str, number))\n",
    "    number0 = f'520210300{barcodee}'\n",
    "    my_code = EAN13(number0, writer=ImageWriter())\n",
    "    my_code.save(f\"barcode{number0}\")"
   ]
  },
  {
   "cell_type": "code",
   "execution_count": null,
   "metadata": {},
   "outputs": [],
   "source": []
  }
 ],
 "metadata": {
  "kernelspec": {
   "display_name": "Python 3",
   "language": "python",
   "name": "python3"
  },
  "language_info": {
   "codemirror_mode": {
    "name": "ipython",
    "version": 3
   },
   "file_extension": ".py",
   "mimetype": "text/x-python",
   "name": "python",
   "nbconvert_exporter": "python",
   "pygments_lexer": "ipython3",
   "version": "3.8.5"
  }
 },
 "nbformat": 4,
 "nbformat_minor": 4
}
